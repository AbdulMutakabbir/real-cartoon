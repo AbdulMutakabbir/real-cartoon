{
 "cells": [
  {
   "cell_type": "code",
   "execution_count": 26,
   "metadata": {},
   "outputs": [
    {
     "name": "stdout",
     "output_type": "stream",
     "text": [
      "Requirement already satisfied: pandas in c:\\users\\a_mut\\appdata\\local\\packages\\pythonsoftwarefoundation.python.3.8_qbz5n2kfra8p0\\localcache\\local-packages\\python38\\site-packages (1.3.4)\n",
      "Requirement already satisfied: python-dateutil>=2.7.3 in c:\\users\\a_mut\\appdata\\local\\packages\\pythonsoftwarefoundation.python.3.8_qbz5n2kfra8p0\\localcache\\local-packages\\python38\\site-packages (from pandas) (2.8.1)\n",
      "Requirement already satisfied: numpy>=1.17.3 in c:\\users\\a_mut\\appdata\\local\\packages\\pythonsoftwarefoundation.python.3.8_qbz5n2kfra8p0\\localcache\\local-packages\\python38\\site-packages (from pandas) (1.24.3)\n",
      "Requirement already satisfied: pytz>=2017.3 in c:\\users\\a_mut\\appdata\\local\\packages\\pythonsoftwarefoundation.python.3.8_qbz5n2kfra8p0\\localcache\\local-packages\\python38\\site-packages (from pandas) (2020.1)\n",
      "Requirement already satisfied: six>=1.5 in c:\\users\\a_mut\\appdata\\local\\packages\\pythonsoftwarefoundation.python.3.8_qbz5n2kfra8p0\\localcache\\local-packages\\python38\\site-packages (from python-dateutil>=2.7.3->pandas) (1.15.0)\n",
      "\n",
      "[notice] A new release of pip available: 22.1.2 -> 23.1.2\n",
      "[notice] To update, run: C:\\Users\\a_mut\\AppData\\Local\\Microsoft\\WindowsApps\\PythonSoftwareFoundation.Python.3.8_qbz5n2kfra8p0\\python.exe -m pip install --upgrade pip\n"
     ]
    }
   ],
   "source": [
    "! pip install pandas"
   ]
  },
  {
   "cell_type": "markdown",
   "metadata": {},
   "source": [
    "# GLobal Constants"
   ]
  },
  {
   "cell_type": "code",
   "execution_count": 27,
   "metadata": {},
   "outputs": [],
   "source": [
    "DATASET_DIR = \"..\\dataset\\IIIT-CFW1.0\"\n",
    "CARTOON_DATASET = \"cartoonFaces\"\n",
    "REAL_FACES = \"realFaces\"\n",
    "DATASET_FILE = \"dataset.csv\"\n",
    "\n",
    "RANDOM_STATE = 1"
   ]
  },
  {
   "cell_type": "markdown",
   "metadata": {},
   "source": [
    "# Load the Dataset"
   ]
  },
  {
   "cell_type": "code",
   "execution_count": 28,
   "metadata": {},
   "outputs": [
    {
     "data": {
      "text/html": [
       "<div>\n",
       "<style scoped>\n",
       "    .dataframe tbody tr th:only-of-type {\n",
       "        vertical-align: middle;\n",
       "    }\n",
       "\n",
       "    .dataframe tbody tr th {\n",
       "        vertical-align: top;\n",
       "    }\n",
       "\n",
       "    .dataframe thead th {\n",
       "        text-align: right;\n",
       "    }\n",
       "</style>\n",
       "<table border=\"1\" class=\"dataframe\">\n",
       "  <thead>\n",
       "    <tr style=\"text-align: right;\">\n",
       "      <th></th>\n",
       "      <th>file</th>\n",
       "      <th>is_real</th>\n",
       "    </tr>\n",
       "  </thead>\n",
       "  <tbody>\n",
       "    <tr>\n",
       "      <th>9923</th>\n",
       "      <td>..\\dataset\\IIIT-CFW1.0\\cartoonFaces\\WinstonChu...</td>\n",
       "      <td>0.0</td>\n",
       "    </tr>\n",
       "    <tr>\n",
       "      <th>9924</th>\n",
       "      <td>..\\dataset\\IIIT-CFW1.0\\cartoonFaces\\WinstonChu...</td>\n",
       "      <td>0.0</td>\n",
       "    </tr>\n",
       "    <tr>\n",
       "      <th>9925</th>\n",
       "      <td>..\\dataset\\IIIT-CFW1.0\\cartoonFaces\\WinstonChu...</td>\n",
       "      <td>0.0</td>\n",
       "    </tr>\n",
       "    <tr>\n",
       "      <th>9926</th>\n",
       "      <td>..\\dataset\\IIIT-CFW1.0\\cartoonFaces\\WinstonChu...</td>\n",
       "      <td>0.0</td>\n",
       "    </tr>\n",
       "    <tr>\n",
       "      <th>9927</th>\n",
       "      <td>..\\dataset\\IIIT-CFW1.0\\cartoonFaces\\WinstonChu...</td>\n",
       "      <td>0.0</td>\n",
       "    </tr>\n",
       "  </tbody>\n",
       "</table>\n",
       "</div>"
      ],
      "text/plain": [
       "                                                   file  is_real\n",
       "9923  ..\\dataset\\IIIT-CFW1.0\\cartoonFaces\\WinstonChu...      0.0\n",
       "9924  ..\\dataset\\IIIT-CFW1.0\\cartoonFaces\\WinstonChu...      0.0\n",
       "9925  ..\\dataset\\IIIT-CFW1.0\\cartoonFaces\\WinstonChu...      0.0\n",
       "9926  ..\\dataset\\IIIT-CFW1.0\\cartoonFaces\\WinstonChu...      0.0\n",
       "9927  ..\\dataset\\IIIT-CFW1.0\\cartoonFaces\\WinstonChu...      0.0"
      ]
     },
     "execution_count": 28,
     "metadata": {},
     "output_type": "execute_result"
    }
   ],
   "source": [
    "import pandas as pd\n",
    "\n",
    "dataset = pd.read_csv(f\"{DATASET_DIR}/{DATASET_FILE}\")\n",
    "dataset.tail()"
   ]
  },
  {
   "attachments": {},
   "cell_type": "markdown",
   "metadata": {},
   "source": [
    "# Build Dataset"
   ]
  },
  {
   "cell_type": "code",
   "execution_count": 29,
   "metadata": {},
   "outputs": [
    {
     "name": "stdout",
     "output_type": "stream",
     "text": [
      "Overwriting ../src/dataset.py\n"
     ]
    }
   ],
   "source": [
    "%%writefile ../src/dataset.py\n",
    "from torch.utils.data import Dataset\n",
    "from torch import is_tensor\n",
    "from PIL import Image\n",
    "from pandas import concat, read_csv\n",
    "import os\n",
    "\n",
    "class RealCartoon(Dataset):\n",
    "    \"\"\"This is a dataset class to load the real and fake dataset with bool labels. \n",
    "    \"\"\"\n",
    "\n",
    "    def __init__(self, csv_file:str, set_type:str, root_dir:str=\"./\", transforms=None, random_state:int=1) -> None:\n",
    "        super().__init__()\n",
    "        self.root_dir = root_dir\n",
    "\n",
    "        # identify the type of dataset\n",
    "        self.set_type = set_type\n",
    "        assert self.set_type in ['train', 'test', 'val'], f\"Invalid set type!!!\"\n",
    "\n",
    "        # load the dataset\n",
    "        self.csv_file = csv_file\n",
    "        self.dataset = read_csv(csv_file)\n",
    "        # split into real and cartoon\n",
    "        real_df = self.dataset[self.dataset.is_real == 1].sample(random_state=random_state,frac=1)\n",
    "        fake_df = self.dataset[self.dataset.is_real == 0].sample(random_state=random_state, frac=1)\n",
    "        # get test, train, val dataset\n",
    "        train_size = int(len(real_df)*0.8)\n",
    "        test_size = int(len(real_df)*0.1)\n",
    "        real_df = real_df[:train_size] if self.set_type == 'train' else real_df[train_size:train_size+test_size] if self.set_type == 'test' else real_df[train_size+test_size:]\n",
    "        train_size = int(len(fake_df)*0.8)\n",
    "        test_size = int(len(fake_df)*0.1)\n",
    "        fake_df = fake_df[:train_size] if self.set_type == 'train' else fake_df[train_size:train_size+test_size] if self.set_type == 'test' else fake_df[train_size+test_size:]\n",
    "        # combine the datasets\n",
    "        self.dataset = concat([real_df,fake_df], axis=0)\n",
    "        # randomly sample the dataset\n",
    "        self.dataset = self.dataset.sample(random_state=random_state, frac=1, ignore_index=True)\n",
    "        # load transforms\n",
    "        self.transforms = transforms\n",
    "\n",
    "\n",
    "    def __len__(self):\n",
    "        return len(self.dataset)\n",
    "    \n",
    "    def __getitem__(self, idx):\n",
    "        if is_tensor(idx):\n",
    "            idx = idx.tolist()\n",
    "\n",
    "        img_name = os.path.join(self.root_dir, self.dataset.iloc[idx, 0])\n",
    "        image = Image.open(img_name)\n",
    "        label = self.dataset.iloc[idx, -1]\n",
    "\n",
    "        if self.transforms:\n",
    "            image = self.transforms(image)\n",
    "\n",
    "        return (image, label)"
   ]
  },
  {
   "cell_type": "code",
   "execution_count": 30,
   "metadata": {},
   "outputs": [
    {
     "data": {
      "text/plain": [
       "(tensor([[[-2.1179, -2.1179, -2.1179,  ..., -2.1179, -2.1179, -2.1179],\n",
       "          [-2.1179, -2.1179, -2.1179,  ..., -2.1179, -2.1179, -2.1179],\n",
       "          [-2.1179, -2.1179, -2.1179,  ..., -2.1179, -2.1179, -2.1179],\n",
       "          ...,\n",
       "          [-2.1179, -2.1179, -2.1179,  ..., -2.1179, -2.1179, -2.1179],\n",
       "          [-2.1179, -2.1179, -2.1179,  ..., -2.1179, -2.1179, -2.1179],\n",
       "          [-2.1179, -2.1179, -2.1179,  ..., -2.1179, -2.1179, -2.1179]],\n",
       " \n",
       "         [[-2.0357, -2.0357, -2.0357,  ..., -2.0357, -2.0357, -2.0357],\n",
       "          [-2.0357, -2.0357, -2.0357,  ..., -2.0357, -2.0357, -2.0357],\n",
       "          [-2.0357, -2.0357, -2.0357,  ..., -2.0357, -2.0357, -2.0357],\n",
       "          ...,\n",
       "          [-2.0357, -2.0357, -2.0357,  ..., -2.0357, -2.0357, -2.0357],\n",
       "          [-2.0357, -2.0357, -2.0357,  ..., -2.0357, -2.0357, -2.0357],\n",
       "          [-2.0357, -2.0357, -2.0357,  ..., -2.0357, -2.0357, -2.0357]],\n",
       " \n",
       "         [[-1.8044, -1.8044, -1.8044,  ..., -1.8044, -1.8044, -1.8044],\n",
       "          [-1.8044, -1.8044, -1.8044,  ..., -1.8044, -1.8044, -1.8044],\n",
       "          [-1.8044, -1.8044, -1.8044,  ..., -1.8044, -1.8044, -1.8044],\n",
       "          ...,\n",
       "          [-1.8044, -1.8044, -1.8044,  ..., -1.8044, -1.8044, -1.8044],\n",
       "          [-1.8044, -1.8044, -1.8044,  ..., -1.8044, -1.8044, -1.8044],\n",
       "          [-1.8044, -1.8044, -1.8044,  ..., -1.8044, -1.8044, -1.8044]]]),\n",
       " 0.0)"
      ]
     },
     "execution_count": 30,
     "metadata": {},
     "output_type": "execute_result"
    }
   ],
   "source": [
    "from torchvision import transforms\n",
    "import os, sys\n",
    "\n",
    "root_dir = os.path.abspath(os.path.join('..'))\n",
    "if root_dir not in sys.path:\n",
    "    sys.path.append(root_dir)\n",
    "from src.dataset import RealCartoon\n",
    "\n",
    "image_dataset = RealCartoon(\n",
    "    csv_file=f\"{DATASET_DIR}/{DATASET_FILE}\",\n",
    "    set_type='train',\n",
    "    root_dir='./',\n",
    "    transforms=transforms.Compose([\n",
    "        transforms.Resize(size=(224,224)),\n",
    "        transforms.RandomHorizontalFlip(),\n",
    "        transforms.RandomVerticalFlip(),\n",
    "        transforms.ColorJitter(brightness=(0.6,1), contrast=(0.6,1)),\n",
    "        transforms.RandomGrayscale(p=0.1),\n",
    "        transforms.RandomPerspective(),\n",
    "        transforms.RandomRotation(degrees=(0, 180)),\n",
    "        transforms.ToTensor(),\n",
    "        transforms.Normalize([0.485, 0.456, 0.406], [0.229, 0.224, 0.225])\n",
    "    ])\n",
    ")\n",
    "image_dataset[0]"
   ]
  },
  {
   "cell_type": "markdown",
   "metadata": {},
   "source": [
    "# Plot Sample"
   ]
  },
  {
   "cell_type": "code",
   "execution_count": 31,
   "metadata": {},
   "outputs": [
    {
     "name": "stderr",
     "output_type": "stream",
     "text": [
      "Clipping input data to the valid range for imshow with RGB data ([0..1] for floats or [0..255] for integers).\n"
     ]
    },
    {
     "data": {
      "text/plain": [
       "<matplotlib.image.AxesImage at 0x250bef71310>"
      ]
     },
     "execution_count": 31,
     "metadata": {},
     "output_type": "execute_result"
    },
    {
     "data": {
      "image/png": "[encoded data removed]",
      "text/plain": [
       "<Figure size 432x288 with 1 Axes>"
      ]
     },
     "metadata": {
      "needs_background": "light"
     },
     "output_type": "display_data"
    }
   ],
   "source": [
    "import random\n",
    "import matplotlib.pyplot as plt\n",
    "\n",
    "# image_index = random.randint(0,len(image_dataset))\n",
    "\n",
    "plt.imshow(image_dataset[image_index][0].permute(1, 2, 0)  )\n"
   ]
  },
  {
   "cell_type": "code",
   "execution_count": null,
   "metadata": {},
   "outputs": [],
   "source": []
  }
 ],
 "metadata": {
  "kernelspec": {
   "display_name": "Python 3",
   "language": "python",
   "name": "python3"
  },
  "language_info": {
   "codemirror_mode": {
    "name": "ipython",
    "version": 3
   },
   "file_extension": ".py",
   "mimetype": "text/x-python",
   "name": "python",
   "nbconvert_exporter": "python",
   "pygments_lexer": "ipython3",
   "version": "3.8.10"
  },
  "orig_nbformat": 4
 },
 "nbformat": 4,
 "nbformat_minor": 2
}
