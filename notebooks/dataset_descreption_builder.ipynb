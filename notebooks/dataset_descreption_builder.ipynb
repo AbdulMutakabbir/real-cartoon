{
 "cells": [
  {
   "cell_type": "code",
   "execution_count": 1,
   "metadata": {},
   "outputs": [
    {
     "name": "stdout",
     "output_type": "stream",
     "text": [
      "Requirement already satisfied: mat4py in /home/mutakabbir/Projects/real-cartoon/.venv/lib/python3.10/site-packages (0.5.0)\n",
      "Requirement already satisfied: pandas in /home/mutakabbir/Projects/real-cartoon/.venv/lib/python3.10/site-packages (2.0.2)\n",
      "Requirement already satisfied: python-dateutil>=2.8.2 in /home/mutakabbir/Projects/real-cartoon/.venv/lib/python3.10/site-packages (from pandas) (2.8.2)\n",
      "Requirement already satisfied: pytz>=2020.1 in /home/mutakabbir/Projects/real-cartoon/.venv/lib/python3.10/site-packages (from pandas) (2023.3)\n",
      "Requirement already satisfied: tzdata>=2022.1 in /home/mutakabbir/Projects/real-cartoon/.venv/lib/python3.10/site-packages (from pandas) (2023.3)\n",
      "Requirement already satisfied: numpy>=1.21.0 in /home/mutakabbir/Projects/real-cartoon/.venv/lib/python3.10/site-packages (from pandas) (1.25.0)\n",
      "Requirement already satisfied: six>=1.5 in /home/mutakabbir/Projects/real-cartoon/.venv/lib/python3.10/site-packages (from python-dateutil>=2.8.2->pandas) (1.16.0)\n"
     ]
    }
   ],
   "source": [
    "! pip install mat4py pandas"
   ]
  },
  {
   "cell_type": "code",
   "execution_count": 2,
   "metadata": {},
   "outputs": [],
   "source": [
    "import os"
   ]
  },
  {
   "cell_type": "markdown",
   "metadata": {},
   "source": [
    "# GLobal Constants"
   ]
  },
  {
   "cell_type": "code",
   "execution_count": 3,
   "metadata": {},
   "outputs": [],
   "source": [
    "DATASET_DIR = f\"..{os.sep}dataset{os.sep}IIIT-CFW1.0\"\n",
    "CARTOON_DATASET = \"cartoonFaces\"\n",
    "REAL_FACES = \"realFaces\"\n",
    "DATASET_FILE = \"dataset.csv\"\n",
    "\n",
    "RANDOM_STATE = 1"
   ]
  },
  {
   "cell_type": "markdown",
   "metadata": {},
   "source": [
    "# Helper function"
   ]
  },
  {
   "cell_type": "code",
   "execution_count": 4,
   "metadata": {},
   "outputs": [],
   "source": [
    "def get_dataset_path(is_real:bool, base_dir:str=DATASET_DIR, real_dir:str=REAL_FACES, cartoon_dir:str=CARTOON_DATASET):\n",
    "    if is_real:\n",
    "        return f\"{base_dir}{os.sep}{real_dir}\"\n",
    "    else:\n",
    "        return f\"{base_dir}{os.sep}{cartoon_dir}\""
   ]
  },
  {
   "cell_type": "markdown",
   "metadata": {},
   "source": [
    "# load matlab files"
   ]
  },
  {
   "cell_type": "code",
   "execution_count": 5,
   "metadata": {},
   "outputs": [],
   "source": [
    "# from mat4py import loadmat\n",
    "\n",
    "# data = loadmat(f'{DATASET_DIR}{os.sep}IIITCFWdata.mat')"
   ]
  },
  {
   "attachments": {},
   "cell_type": "markdown",
   "metadata": {},
   "source": [
    "# Build Dataset Description"
   ]
  },
  {
   "cell_type": "code",
   "execution_count": 6,
   "metadata": {},
   "outputs": [],
   "source": [
    "import pandas as pd"
   ]
  },
  {
   "cell_type": "code",
   "execution_count": 7,
   "metadata": {},
   "outputs": [],
   "source": [
    "cartoon_files = os.listdir(get_dataset_path(is_real=False))\n",
    "real_files = os.listdir(get_dataset_path(is_real=True))"
   ]
  },
  {
   "cell_type": "code",
   "execution_count": 8,
   "metadata": {},
   "outputs": [
    {
     "data": {
      "text/html": [
       "<div>\n",
       "<style scoped>\n",
       "    .dataframe tbody tr th:only-of-type {\n",
       "        vertical-align: middle;\n",
       "    }\n",
       "\n",
       "    .dataframe tbody tr th {\n",
       "        vertical-align: top;\n",
       "    }\n",
       "\n",
       "    .dataframe thead th {\n",
       "        text-align: right;\n",
       "    }\n",
       "</style>\n",
       "<table border=\"1\" class=\"dataframe\">\n",
       "  <thead>\n",
       "    <tr style=\"text-align: right;\">\n",
       "      <th></th>\n",
       "      <th>file</th>\n",
       "      <th>is_real</th>\n",
       "    </tr>\n",
       "  </thead>\n",
       "  <tbody>\n",
       "    <tr>\n",
       "      <th>0</th>\n",
       "      <td>../dataset/IIIT-CFW1.0/cartoonFaces/JohnnyDepp...</td>\n",
       "      <td>0.0</td>\n",
       "    </tr>\n",
       "    <tr>\n",
       "      <th>1</th>\n",
       "      <td>../dataset/IIIT-CFW1.0/cartoonFaces/HillaryCli...</td>\n",
       "      <td>0.0</td>\n",
       "    </tr>\n",
       "    <tr>\n",
       "      <th>2</th>\n",
       "      <td>../dataset/IIIT-CFW1.0/cartoonFaces/MichaelJor...</td>\n",
       "      <td>0.0</td>\n",
       "    </tr>\n",
       "    <tr>\n",
       "      <th>3</th>\n",
       "      <td>../dataset/IIIT-CFW1.0/cartoonFaces/KateMiddle...</td>\n",
       "      <td>0.0</td>\n",
       "    </tr>\n",
       "    <tr>\n",
       "      <th>4</th>\n",
       "      <td>../dataset/IIIT-CFW1.0/cartoonFaces/PrincessDi...</td>\n",
       "      <td>0.0</td>\n",
       "    </tr>\n",
       "    <tr>\n",
       "      <th>...</th>\n",
       "      <td>...</td>\n",
       "      <td>...</td>\n",
       "    </tr>\n",
       "    <tr>\n",
       "      <th>8923</th>\n",
       "      <td>../dataset/IIIT-CFW1.0/cartoonFaces/AlbertEins...</td>\n",
       "      <td>0.0</td>\n",
       "    </tr>\n",
       "    <tr>\n",
       "      <th>8924</th>\n",
       "      <td>../dataset/IIIT-CFW1.0/cartoonFaces/NelsonMand...</td>\n",
       "      <td>0.0</td>\n",
       "    </tr>\n",
       "    <tr>\n",
       "      <th>8925</th>\n",
       "      <td>../dataset/IIIT-CFW1.0/cartoonFaces/Beyonce004...</td>\n",
       "      <td>0.0</td>\n",
       "    </tr>\n",
       "    <tr>\n",
       "      <th>8926</th>\n",
       "      <td>../dataset/IIIT-CFW1.0/cartoonFaces/SylvesterS...</td>\n",
       "      <td>0.0</td>\n",
       "    </tr>\n",
       "    <tr>\n",
       "      <th>8927</th>\n",
       "      <td>../dataset/IIIT-CFW1.0/cartoonFaces/DavidBeckh...</td>\n",
       "      <td>0.0</td>\n",
       "    </tr>\n",
       "  </tbody>\n",
       "</table>\n",
       "<p>8928 rows × 2 columns</p>\n",
       "</div>"
      ],
      "text/plain": [
       "                                                   file  is_real\n",
       "0     ../dataset/IIIT-CFW1.0/cartoonFaces/JohnnyDepp...      0.0\n",
       "1     ../dataset/IIIT-CFW1.0/cartoonFaces/HillaryCli...      0.0\n",
       "2     ../dataset/IIIT-CFW1.0/cartoonFaces/MichaelJor...      0.0\n",
       "3     ../dataset/IIIT-CFW1.0/cartoonFaces/KateMiddle...      0.0\n",
       "4     ../dataset/IIIT-CFW1.0/cartoonFaces/PrincessDi...      0.0\n",
       "...                                                 ...      ...\n",
       "8923  ../dataset/IIIT-CFW1.0/cartoonFaces/AlbertEins...      0.0\n",
       "8924  ../dataset/IIIT-CFW1.0/cartoonFaces/NelsonMand...      0.0\n",
       "8925  ../dataset/IIIT-CFW1.0/cartoonFaces/Beyonce004...      0.0\n",
       "8926  ../dataset/IIIT-CFW1.0/cartoonFaces/SylvesterS...      0.0\n",
       "8927  ../dataset/IIIT-CFW1.0/cartoonFaces/DavidBeckh...      0.0\n",
       "\n",
       "[8928 rows x 2 columns]"
      ]
     },
     "execution_count": 8,
     "metadata": {},
     "output_type": "execute_result"
    }
   ],
   "source": [
    "cartoon_df = pd.DataFrame(cartoon_files, columns=['file'])\n",
    "cartoon_df['is_real'] = 0.0\n",
    "cartoon_df['file'] = cartoon_df['file'].apply(lambda file: f\"{get_dataset_path(is_real=False)}{os.sep}{file}\")\n",
    "cartoon_df"
   ]
  },
  {
   "cell_type": "code",
   "execution_count": 9,
   "metadata": {},
   "outputs": [
    {
     "data": {
      "text/html": [
       "<div>\n",
       "<style scoped>\n",
       "    .dataframe tbody tr th:only-of-type {\n",
       "        vertical-align: middle;\n",
       "    }\n",
       "\n",
       "    .dataframe tbody tr th {\n",
       "        vertical-align: top;\n",
       "    }\n",
       "\n",
       "    .dataframe thead th {\n",
       "        text-align: right;\n",
       "    }\n",
       "</style>\n",
       "<table border=\"1\" class=\"dataframe\">\n",
       "  <thead>\n",
       "    <tr style=\"text-align: right;\">\n",
       "      <th></th>\n",
       "      <th>file</th>\n",
       "      <th>is_real</th>\n",
       "    </tr>\n",
       "  </thead>\n",
       "  <tbody>\n",
       "    <tr>\n",
       "      <th>0</th>\n",
       "      <td>../dataset/IIIT-CFW1.0/realFaces/ScarlettJohan...</td>\n",
       "      <td>1.0</td>\n",
       "    </tr>\n",
       "    <tr>\n",
       "      <th>1</th>\n",
       "      <td>../dataset/IIIT-CFW1.0/realFaces/NarendraModi0...</td>\n",
       "      <td>1.0</td>\n",
       "    </tr>\n",
       "    <tr>\n",
       "      <th>2</th>\n",
       "      <td>../dataset/IIIT-CFW1.0/realFaces/PrincessDiana...</td>\n",
       "      <td>1.0</td>\n",
       "    </tr>\n",
       "    <tr>\n",
       "      <th>3</th>\n",
       "      <td>../dataset/IIIT-CFW1.0/realFaces/ManmohanSingh...</td>\n",
       "      <td>1.0</td>\n",
       "    </tr>\n",
       "    <tr>\n",
       "      <th>4</th>\n",
       "      <td>../dataset/IIIT-CFW1.0/realFaces/PrincessDiana...</td>\n",
       "      <td>1.0</td>\n",
       "    </tr>\n",
       "    <tr>\n",
       "      <th>...</th>\n",
       "      <td>...</td>\n",
       "      <td>...</td>\n",
       "    </tr>\n",
       "    <tr>\n",
       "      <th>995</th>\n",
       "      <td>../dataset/IIIT-CFW1.0/realFaces/PeterSellers0...</td>\n",
       "      <td>1.0</td>\n",
       "    </tr>\n",
       "    <tr>\n",
       "      <th>996</th>\n",
       "      <td>../dataset/IIIT-CFW1.0/realFaces/Jay-Z0001.jpg</td>\n",
       "      <td>1.0</td>\n",
       "    </tr>\n",
       "    <tr>\n",
       "      <th>997</th>\n",
       "      <td>../dataset/IIIT-CFW1.0/realFaces/TaylorSwift00...</td>\n",
       "      <td>1.0</td>\n",
       "    </tr>\n",
       "    <tr>\n",
       "      <th>998</th>\n",
       "      <td>../dataset/IIIT-CFW1.0/realFaces/PeterSellers0...</td>\n",
       "      <td>1.0</td>\n",
       "    </tr>\n",
       "    <tr>\n",
       "      <th>999</th>\n",
       "      <td>../dataset/IIIT-CFW1.0/realFaces/Jay-Z0004.jpg</td>\n",
       "      <td>1.0</td>\n",
       "    </tr>\n",
       "  </tbody>\n",
       "</table>\n",
       "<p>1000 rows × 2 columns</p>\n",
       "</div>"
      ],
      "text/plain": [
       "                                                  file  is_real\n",
       "0    ../dataset/IIIT-CFW1.0/realFaces/ScarlettJohan...      1.0\n",
       "1    ../dataset/IIIT-CFW1.0/realFaces/NarendraModi0...      1.0\n",
       "2    ../dataset/IIIT-CFW1.0/realFaces/PrincessDiana...      1.0\n",
       "3    ../dataset/IIIT-CFW1.0/realFaces/ManmohanSingh...      1.0\n",
       "4    ../dataset/IIIT-CFW1.0/realFaces/PrincessDiana...      1.0\n",
       "..                                                 ...      ...\n",
       "995  ../dataset/IIIT-CFW1.0/realFaces/PeterSellers0...      1.0\n",
       "996     ../dataset/IIIT-CFW1.0/realFaces/Jay-Z0001.jpg      1.0\n",
       "997  ../dataset/IIIT-CFW1.0/realFaces/TaylorSwift00...      1.0\n",
       "998  ../dataset/IIIT-CFW1.0/realFaces/PeterSellers0...      1.0\n",
       "999     ../dataset/IIIT-CFW1.0/realFaces/Jay-Z0004.jpg      1.0\n",
       "\n",
       "[1000 rows x 2 columns]"
      ]
     },
     "execution_count": 9,
     "metadata": {},
     "output_type": "execute_result"
    }
   ],
   "source": [
    "real_df = pd.DataFrame(real_files, columns=['file'])\n",
    "real_df['is_real'] = 1.0\n",
    "real_df['file'] = real_df['file'].apply(lambda file: f\"{get_dataset_path(is_real=True)}{os.sep}{file}\")\n",
    "real_df"
   ]
  },
  {
   "cell_type": "code",
   "execution_count": 10,
   "metadata": {},
   "outputs": [
    {
     "data": {
      "text/html": [
       "<div>\n",
       "<style scoped>\n",
       "    .dataframe tbody tr th:only-of-type {\n",
       "        vertical-align: middle;\n",
       "    }\n",
       "\n",
       "    .dataframe tbody tr th {\n",
       "        vertical-align: top;\n",
       "    }\n",
       "\n",
       "    .dataframe thead th {\n",
       "        text-align: right;\n",
       "    }\n",
       "</style>\n",
       "<table border=\"1\" class=\"dataframe\">\n",
       "  <thead>\n",
       "    <tr style=\"text-align: right;\">\n",
       "      <th></th>\n",
       "      <th>file</th>\n",
       "      <th>is_real</th>\n",
       "    </tr>\n",
       "  </thead>\n",
       "  <tbody>\n",
       "    <tr>\n",
       "      <th>0</th>\n",
       "      <td>../dataset/IIIT-CFW1.0/realFaces/ScarlettJohan...</td>\n",
       "      <td>1.0</td>\n",
       "    </tr>\n",
       "    <tr>\n",
       "      <th>1</th>\n",
       "      <td>../dataset/IIIT-CFW1.0/realFaces/NarendraModi0...</td>\n",
       "      <td>1.0</td>\n",
       "    </tr>\n",
       "    <tr>\n",
       "      <th>2</th>\n",
       "      <td>../dataset/IIIT-CFW1.0/realFaces/PrincessDiana...</td>\n",
       "      <td>1.0</td>\n",
       "    </tr>\n",
       "    <tr>\n",
       "      <th>3</th>\n",
       "      <td>../dataset/IIIT-CFW1.0/realFaces/ManmohanSingh...</td>\n",
       "      <td>1.0</td>\n",
       "    </tr>\n",
       "    <tr>\n",
       "      <th>4</th>\n",
       "      <td>../dataset/IIIT-CFW1.0/realFaces/PrincessDiana...</td>\n",
       "      <td>1.0</td>\n",
       "    </tr>\n",
       "    <tr>\n",
       "      <th>...</th>\n",
       "      <td>...</td>\n",
       "      <td>...</td>\n",
       "    </tr>\n",
       "    <tr>\n",
       "      <th>8923</th>\n",
       "      <td>../dataset/IIIT-CFW1.0/cartoonFaces/AlbertEins...</td>\n",
       "      <td>0.0</td>\n",
       "    </tr>\n",
       "    <tr>\n",
       "      <th>8924</th>\n",
       "      <td>../dataset/IIIT-CFW1.0/cartoonFaces/NelsonMand...</td>\n",
       "      <td>0.0</td>\n",
       "    </tr>\n",
       "    <tr>\n",
       "      <th>8925</th>\n",
       "      <td>../dataset/IIIT-CFW1.0/cartoonFaces/Beyonce004...</td>\n",
       "      <td>0.0</td>\n",
       "    </tr>\n",
       "    <tr>\n",
       "      <th>8926</th>\n",
       "      <td>../dataset/IIIT-CFW1.0/cartoonFaces/SylvesterS...</td>\n",
       "      <td>0.0</td>\n",
       "    </tr>\n",
       "    <tr>\n",
       "      <th>8927</th>\n",
       "      <td>../dataset/IIIT-CFW1.0/cartoonFaces/DavidBeckh...</td>\n",
       "      <td>0.0</td>\n",
       "    </tr>\n",
       "  </tbody>\n",
       "</table>\n",
       "<p>9928 rows × 2 columns</p>\n",
       "</div>"
      ],
      "text/plain": [
       "                                                   file  is_real\n",
       "0     ../dataset/IIIT-CFW1.0/realFaces/ScarlettJohan...      1.0\n",
       "1     ../dataset/IIIT-CFW1.0/realFaces/NarendraModi0...      1.0\n",
       "2     ../dataset/IIIT-CFW1.0/realFaces/PrincessDiana...      1.0\n",
       "3     ../dataset/IIIT-CFW1.0/realFaces/ManmohanSingh...      1.0\n",
       "4     ../dataset/IIIT-CFW1.0/realFaces/PrincessDiana...      1.0\n",
       "...                                                 ...      ...\n",
       "8923  ../dataset/IIIT-CFW1.0/cartoonFaces/AlbertEins...      0.0\n",
       "8924  ../dataset/IIIT-CFW1.0/cartoonFaces/NelsonMand...      0.0\n",
       "8925  ../dataset/IIIT-CFW1.0/cartoonFaces/Beyonce004...      0.0\n",
       "8926  ../dataset/IIIT-CFW1.0/cartoonFaces/SylvesterS...      0.0\n",
       "8927  ../dataset/IIIT-CFW1.0/cartoonFaces/DavidBeckh...      0.0\n",
       "\n",
       "[9928 rows x 2 columns]"
      ]
     },
     "execution_count": 10,
     "metadata": {},
     "output_type": "execute_result"
    }
   ],
   "source": [
    "dataset = pd.concat([real_df, cartoon_df]) # combine the DF\n",
    "# dataset = dataset.sample(frac=1,ignore_index=True, random_state=RANDOM_STATE) # randomly sort the data\n",
    "dataset"
   ]
  },
  {
   "cell_type": "code",
   "execution_count": 11,
   "metadata": {},
   "outputs": [],
   "source": [
    "# save the dataset description \n",
    "\n",
    "dataset.to_csv(f\"{DATASET_DIR}{os.sep}{DATASET_FILE}\", index=False)"
   ]
  },
  {
   "cell_type": "markdown",
   "metadata": {},
   "source": [
    "# Load the Dataset"
   ]
  },
  {
   "cell_type": "code",
   "execution_count": 12,
   "metadata": {},
   "outputs": [
    {
     "data": {
      "text/html": [
       "<div>\n",
       "<style scoped>\n",
       "    .dataframe tbody tr th:only-of-type {\n",
       "        vertical-align: middle;\n",
       "    }\n",
       "\n",
       "    .dataframe tbody tr th {\n",
       "        vertical-align: top;\n",
       "    }\n",
       "\n",
       "    .dataframe thead th {\n",
       "        text-align: right;\n",
       "    }\n",
       "</style>\n",
       "<table border=\"1\" class=\"dataframe\">\n",
       "  <thead>\n",
       "    <tr style=\"text-align: right;\">\n",
       "      <th></th>\n",
       "      <th>file</th>\n",
       "      <th>is_real</th>\n",
       "    </tr>\n",
       "  </thead>\n",
       "  <tbody>\n",
       "    <tr>\n",
       "      <th>9923</th>\n",
       "      <td>../dataset/IIIT-CFW1.0/cartoonFaces/AlbertEins...</td>\n",
       "      <td>0.0</td>\n",
       "    </tr>\n",
       "    <tr>\n",
       "      <th>9924</th>\n",
       "      <td>../dataset/IIIT-CFW1.0/cartoonFaces/NelsonMand...</td>\n",
       "      <td>0.0</td>\n",
       "    </tr>\n",
       "    <tr>\n",
       "      <th>9925</th>\n",
       "      <td>../dataset/IIIT-CFW1.0/cartoonFaces/Beyonce004...</td>\n",
       "      <td>0.0</td>\n",
       "    </tr>\n",
       "    <tr>\n",
       "      <th>9926</th>\n",
       "      <td>../dataset/IIIT-CFW1.0/cartoonFaces/SylvesterS...</td>\n",
       "      <td>0.0</td>\n",
       "    </tr>\n",
       "    <tr>\n",
       "      <th>9927</th>\n",
       "      <td>../dataset/IIIT-CFW1.0/cartoonFaces/DavidBeckh...</td>\n",
       "      <td>0.0</td>\n",
       "    </tr>\n",
       "  </tbody>\n",
       "</table>\n",
       "</div>"
      ],
      "text/plain": [
       "                                                   file  is_real\n",
       "9923  ../dataset/IIIT-CFW1.0/cartoonFaces/AlbertEins...      0.0\n",
       "9924  ../dataset/IIIT-CFW1.0/cartoonFaces/NelsonMand...      0.0\n",
       "9925  ../dataset/IIIT-CFW1.0/cartoonFaces/Beyonce004...      0.0\n",
       "9926  ../dataset/IIIT-CFW1.0/cartoonFaces/SylvesterS...      0.0\n",
       "9927  ../dataset/IIIT-CFW1.0/cartoonFaces/DavidBeckh...      0.0"
      ]
     },
     "execution_count": 12,
     "metadata": {},
     "output_type": "execute_result"
    }
   ],
   "source": [
    "dataset = pd.read_csv(f\"{DATASET_DIR}{os.sep}{DATASET_FILE}\")\n",
    "dataset.tail()"
   ]
  },
  {
   "cell_type": "code",
   "execution_count": null,
   "metadata": {},
   "outputs": [],
   "source": []
  }
 ],
 "metadata": {
  "kernelspec": {
   "display_name": "Python 3",
   "language": "python",
   "name": "python3"
  },
  "language_info": {
   "codemirror_mode": {
    "name": "ipython",
    "version": 3
   },
   "file_extension": ".py",
   "mimetype": "text/x-python",
   "name": "python",
   "nbconvert_exporter": "python",
   "pygments_lexer": "ipython3",
   "version": "3.10.6"
  },
  "orig_nbformat": 4
 },
 "nbformat": 4,
 "nbformat_minor": 2
}
